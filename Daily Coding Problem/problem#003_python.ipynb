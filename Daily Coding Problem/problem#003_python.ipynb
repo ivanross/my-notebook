{
 "cells": [
  {
   "cell_type": "markdown",
   "metadata": {},
   "source": [
    "# Daily Coding Poblem #003"
   ]
  },
  {
   "cell_type": "markdown",
   "metadata": {},
   "source": [
    "Given the root to a binary tree, implement serialize(root), which serializes the tree into a string, and deserialize(s), which deserializes the string back into the tree.\n",
    "\n",
    "For example, given the following Node class\n",
    "```py\n",
    "class Node:\n",
    "    def __init__(self, val, left=None, right=None):\n",
    "        self.val = val\n",
    "        self.left = left\n",
    "        self.right = right\n",
    "```        \n",
    "\n",
    "The following test should pass:\n",
    "```py\n",
    "node = Node('root', Node('left', Node('left.left')), Node('right'))\n",
    "assert deserialize(serialize(node)).left.left.val == 'left.left'\n",
    "```"
   ]
  },
  {
   "cell_type": "code",
   "execution_count": 81,
   "metadata": {},
   "outputs": [],
   "source": [
    "import base64\n",
    "def encode(s): return base64.b64encode(s.encode(\"utf-8\")).decode(\"utf-8\")\n",
    "def decode(s): return base64.b64decode(s.encode(\"utf-8\")).decode(\"utf-8\")"
   ]
  },
  {
   "cell_type": "code",
   "execution_count": 4,
   "metadata": {},
   "outputs": [],
   "source": [
    "class Node:\n",
    "    def __init__(self, val, left=None, right=None):\n",
    "        self.val = val\n",
    "        self.left = left\n",
    "        self.right = right\n",
    "    \n",
    "    def __str__(self):\n",
    "        return f\"Node({self.val},{self.left},{self.right})\""
   ]
  },
  {
   "cell_type": "code",
   "execution_count": 26,
   "metadata": {},
   "outputs": [],
   "source": [
    "node = Node('root', Node(\"left\", Node('left.left',Node(\"a\"))), Node('right', None, Node(\"right.right\")))"
   ]
  },
  {
   "cell_type": "code",
   "execution_count": 27,
   "metadata": {},
   "outputs": [
    {
     "name": "stdout",
     "output_type": "stream",
     "text": [
      "root,left,left.left,a,null,null,null,null,right,null,right.right,null,null\n"
     ]
    }
   ],
   "source": [
    "import base64\n",
    "\n",
    "def serialize(node):    \n",
    "    if node is None: return \"null\"\n",
    "    return f\"{node.val},{serialize(node.left)},{serialize(node.right)}\"\n",
    "\n",
    "print(serialize(node))"
   ]
  },
  {
   "cell_type": "code",
   "execution_count": 30,
   "metadata": {
    "scrolled": false
   },
   "outputs": [
    {
     "name": "stdout",
     "output_type": "stream",
     "text": [
      "Node(root,Node(left,Node(left.left,Node(a,None,None),None),None),Node(right,None,Node(right.right,None,None)))\n"
     ]
    }
   ],
   "source": [
    "def deserialize(s):\n",
    "    data = s.split(\",\")\n",
    "\n",
    "    def build():\n",
    "        if len(data) is 0: return None\n",
    "        value = data.pop(0)\n",
    "        if value == \"null\": return None\n",
    "        tree = Node(value)\n",
    "        tree.left = build()\n",
    "        tree.right = build()\n",
    "        return tree\n",
    "   \n",
    "    return build()\n",
    "\n",
    "print(deserialize(serialize(node)))    "
   ]
  },
  {
   "cell_type": "code",
   "execution_count": 29,
   "metadata": {},
   "outputs": [
    {
     "name": "stdout",
     "output_type": "stream",
     "text": [
      "True\n"
     ]
    }
   ],
   "source": [
    "print(deserialize(serialize(node)).right.right.val == 'right.right')"
   ]
  }
 ],
 "metadata": {
  "kernelspec": {
   "display_name": "Python 3",
   "language": "python",
   "name": "python3"
  },
  "language_info": {
   "codemirror_mode": {
    "name": "ipython",
    "version": 3
   },
   "file_extension": ".py",
   "mimetype": "text/x-python",
   "name": "python",
   "nbconvert_exporter": "python",
   "pygments_lexer": "ipython3",
   "version": "3.7.6"
  }
 },
 "nbformat": 4,
 "nbformat_minor": 4
}
