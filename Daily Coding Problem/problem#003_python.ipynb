{
 "cells": [
  {
   "cell_type": "markdown",
   "metadata": {},
   "source": [
    "# Daily Coding Poblem #003"
   ]
  },
  {
   "cell_type": "markdown",
   "metadata": {},
   "source": [
    "Given the root to a binary tree, implement serialize(root), which serializes the tree into a string, and deserialize(s), which deserializes the string back into the tree.\n",
    "\n",
    "For example, given the following Node class\n",
    "```py\n",
    "class Node:\n",
    "    def __init__(self, val, left=None, right=None):\n",
    "        self.val = val\n",
    "        self.left = left\n",
    "        self.right = right\n",
    "```        \n",
    "\n",
    "The following test should pass:\n",
    "```py\n",
    "node = Node('root', Node('left', Node('left.left')), Node('right'))\n",
    "assert deserialize(serialize(node)).left.left.val == 'left.left'\n",
    "```"
   ]
  },
  {
   "cell_type": "code",
   "execution_count": 81,
   "metadata": {},
   "outputs": [],
   "source": [
    "import base64\n",
    "def encode(s): return base64.b64encode(s.encode(\"utf-8\")).decode(\"utf-8\")\n",
    "def decode(s): return base64.b64decode(s.encode(\"utf-8\")).decode(\"utf-8\")"
   ]
  },
  {
   "cell_type": "code",
   "execution_count": 35,
   "metadata": {},
   "outputs": [],
   "source": [
    "class Node:\n",
    "    def __init__(self, val, left=None, right=None):\n",
    "        self.val = val\n",
    "        self.left = left\n",
    "        self.right = right\n",
    "    \n",
    "    def __str__(self):\n",
    "        return f\"Node({self.val},{self.left},{self.right})\""
   ]
  },
  {
   "cell_type": "code",
   "execution_count": 141,
   "metadata": {},
   "outputs": [],
   "source": [
    "node = Node('root', Node(\"left\", Node('left.left',Node(\"a\"))), Node('right', None, Node(\"right.right\")))"
   ]
  },
  {
   "cell_type": "code",
   "execution_count": 149,
   "metadata": {},
   "outputs": [
    {
     "name": "stdout",
     "output_type": "stream",
     "text": [
      "cm9vdA==(bGVmdA==(bGVmdC5sZWZ0(YQ==,),),cmlnaHQ=(,cmlnaHQucmlnaHQ=))\n"
     ]
    }
   ],
   "source": [
    "import base64\n",
    "\n",
    "def serialize(node):    \n",
    "    def dfs(node):\n",
    "        if node == None or node.val == None: return \"\"\n",
    "        res = encode(node.val)\n",
    "        if (node.left or node.right): res += \"(\"+dfs(node.left)+\",\"+dfs(node.right)+\")\"\n",
    "        return res\n",
    "    return dfs(node)\n",
    "\n",
    "print(serialize(node))"
   ]
  },
  {
   "cell_type": "code",
   "execution_count": 84,
   "metadata": {},
   "outputs": [
    {
     "data": {
      "text/plain": [
       "'Node(root,Node(left,Node(left.left,Node(a,None,None),None),None),Node(right,None,None))'"
      ]
     },
     "execution_count": 84,
     "metadata": {},
     "output_type": "execute_result"
    }
   ],
   "source": [
    "str(node)"
   ]
  },
  {
   "cell_type": "code",
   "execution_count": 165,
   "metadata": {},
   "outputs": [
    {
     "name": "stdout",
     "output_type": "stream",
     "text": [
      "cm9vdA==bGVmdA==bGVmdC5sZWZ0YQ==cmlnaHQ=cmlnaHQucmlnaHQ=\n",
      "cm9vdA==(bGVmdA==(bGVmdC5sZWZ0(YQ==,),),cmlnaHQ=(,cmlnaHQucmlnaHQ=))\n"
     ]
    }
   ],
   "source": [
    "def deserialize(s):\n",
    "    \n",
    "    tree = Node(None)\n",
    "    value = \"\"\n",
    "    \n",
    "    for c in s:\n",
    "        if c == \"(\": \n",
    "\n",
    "        if c == \")\": continue\n",
    "        if c == \",\": continue\n",
    "        value += c\n",
    "    \n",
    "    print(value)    \n",
    "    return s\n",
    "\n",
    "\n",
    "\n",
    "print(deserialize(serialize(node)))    "
   ]
  },
  {
   "cell_type": "code",
   "execution_count": null,
   "metadata": {},
   "outputs": [],
   "source": []
  },
  {
   "cell_type": "code",
   "execution_count": 158,
   "metadata": {},
   "outputs": [
    {
     "data": {
      "text/plain": [
       "('a', 'dasd')"
      ]
     },
     "execution_count": 158,
     "metadata": {},
     "output_type": "execute_result"
    }
   ],
   "source": [
    "(a,b) = \"asdasd\".split(\"s\",1)\n",
    "a,b"
   ]
  },
  {
   "cell_type": "code",
   "execution_count": 116,
   "metadata": {},
   "outputs": [
    {
     "data": {
      "text/plain": [
       "1"
      ]
     },
     "execution_count": 116,
     "metadata": {},
     "output_type": "execute_result"
    }
   ],
   "source": [
    "[1,2,3,4,5].pop(0)"
   ]
  }
 ],
 "metadata": {
  "kernelspec": {
   "display_name": "Python 3",
   "language": "python",
   "name": "python3"
  },
  "language_info": {
   "codemirror_mode": {
    "name": "ipython",
    "version": 3
   },
   "file_extension": ".py",
   "mimetype": "text/x-python",
   "name": "python",
   "nbconvert_exporter": "python",
   "pygments_lexer": "ipython3",
   "version": "3.7.6"
  }
 },
 "nbformat": 4,
 "nbformat_minor": 4
}
