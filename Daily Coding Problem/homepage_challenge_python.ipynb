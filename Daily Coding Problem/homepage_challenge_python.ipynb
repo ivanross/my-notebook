{
 "cells": [
  {
   "cell_type": "markdown",
   "metadata": {},
   "source": [
    "# Homepage Challenge"
   ]
  },
  {
   "cell_type": "markdown",
   "metadata": {},
   "source": [
    "There's a staircase with N steps, and you can climb 1 or 2 steps at a time. Given N, write a function that returns the number of unique ways you can climb the staircase. The order of the steps matters.\n",
    "\n",
    "For example, if N is 4, then there are 5 unique ways:\n",
    "\n",
    "- 1, 1, 1, 1\n",
    "- 2, 1, 1\n",
    "- 1, 2, 1\n",
    "- 1, 1, 2\n",
    "- 2, 2\n",
    "\n",
    "What if, instead of being able to climb 1 or 2 steps at a time, you could climb any number from a set of positive integers X? For example, if X = {1, 3, 5}, you could climb 1, 3, or 5 steps at a time. Generalize your function to take in X."
   ]
  },
  {
   "cell_type": "code",
   "execution_count": 5,
   "metadata": {},
   "outputs": [
    {
     "name": "stdout",
     "output_type": "stream",
     "text": [
      "[[1, 1, 1, 1], [1, 1, 2], [1, 2, 1], [2, 1, 1], [2, 2]]\n"
     ]
    }
   ],
   "source": [
    "class Problem:\n",
    "    def __init__(self,N,steps):\n",
    "        self.__res = []\n",
    "        self.__N = N\n",
    "        self.__steps = steps\n",
    "\n",
    "    def backtrack(self, remaining, acc, tentative):\n",
    "        if remaining - tentative < 0: return\n",
    "        if remaining - tentative == 0:\n",
    "             self.__res.append(acc + [tentative])\n",
    "        else:  \n",
    "            for i in self.__steps: \n",
    "                self.backtrack(remaining - tentative, acc + [tentative], i)\n",
    "    \n",
    "    def solve(self):\n",
    "        for i in self.__steps: self.backtrack(self.__N,[],i)\n",
    "        return self.__res\n",
    "\n",
    "def solution(N,steps): return Problem(N,steps).solve() \n",
    "\n",
    "\n",
    "print(solution(4,[1,2]))"
   ]
  }
 ],
 "metadata": {
  "kernelspec": {
   "display_name": "Python 3",
   "language": "python",
   "name": "python3"
  },
  "language_info": {
   "codemirror_mode": {
    "name": "ipython",
    "version": 3
   },
   "file_extension": ".py",
   "mimetype": "text/x-python",
   "name": "python",
   "nbconvert_exporter": "python",
   "pygments_lexer": "ipython3",
   "version": "3.7.6"
  }
 },
 "nbformat": 4,
 "nbformat_minor": 4
}
