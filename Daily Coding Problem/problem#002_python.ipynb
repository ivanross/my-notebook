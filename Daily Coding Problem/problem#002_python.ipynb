{
 "cells": [
  {
   "cell_type": "markdown",
   "metadata": {},
   "source": [
    "# Daily Coding Poblem #002"
   ]
  },
  {
   "cell_type": "markdown",
   "metadata": {},
   "source": [
    "Given an array of integers, return a new array such that each element at index `i` of the new array is the product of all the numbers in the original array except the one at `i`.\n",
    "\n",
    "For example, if our input was `[1, 2, 3, 4, 5]`, the expected output would be `[120, 60, 40, 30, 24]`. If our input was `[3, 2, 1]`, the expected output would be `[2, 3, 6]`.\n",
    "\n",
    "Follow-up: what if you can't use division?"
   ]
  },
  {
   "cell_type": "code",
   "execution_count": 5,
   "metadata": {},
   "outputs": [
    {
     "name": "stdout",
     "output_type": "stream",
     "text": [
      "[120.0, 60.0, 40.0, 30.0, 24.0]\n",
      "[2.0, 3.0, 6.0]\n"
     ]
    }
   ],
   "source": [
    "from functools import reduce\n",
    "\n",
    "def very_bad_solution(ls):\n",
    "    prod = reduce(lambda a,b: a*b, ls)\n",
    "    return [prod / x for x in ls]\n",
    "    \n",
    "print(very_bad_solution([1, 2, 3, 4, 5]))\n",
    "print(very_bad_solution([3, 2, 1]))"
   ]
  },
  {
   "cell_type": "code",
   "execution_count": 14,
   "metadata": {},
   "outputs": [
    {
     "name": "stdout",
     "output_type": "stream",
     "text": [
      "[120, 60, 40, 30, 24]\n",
      "[2, 3, 6]\n"
     ]
    }
   ],
   "source": [
    "from functools import reduce\n",
    "\n",
    "def bad_solution(ls):\n",
    "    without = lambda xs,x: filter(lambda y: y != x,ls)\n",
    "    productory = lambda xs: reduce(lambda a,b: a*b, xs)\n",
    "    return [productory(without(ls,x)) for x in ls]\n",
    "    \n",
    "print(bad_solution([1, 2, 3, 4, 5]))\n",
    "print(bad_solution([3, 2, 1]))"
   ]
  },
  {
   "cell_type": "markdown",
   "metadata": {},
   "source": [
    "## Dynamic Programming Solution\n",
    "\n",
    "> https://www.geeksforgeeks.org/dynamic-programming/"
   ]
  },
  {
   "cell_type": "code",
   "execution_count": 52,
   "metadata": {},
   "outputs": [
    {
     "name": "stdout",
     "output_type": "stream",
     "text": [
      "[120, 60, 40, 30, 24]\n",
      "[2, 3, 6]\n"
     ]
    }
   ],
   "source": [
    "def solution(ls):\n",
    "    N = len(ls)\n",
    "    left =  [1] * N\n",
    "    right = [1] * N\n",
    "        \n",
    "    for i in range(1,N): \n",
    "        left[i] = left[i-1] * ls[i-1]\n",
    "        \n",
    "    for i in range(0,N-1)[::-1]: \n",
    "        right[i] = right[i+1] * ls[i+1]\n",
    "    \n",
    "    return [l * r for (l,r) in zip(left,right)]\n",
    "    \n",
    "\n",
    "print(solution([1, 2, 3, 4, 5]))\n",
    "print(solution([3, 2, 1]))"
   ]
  }
 ],
 "metadata": {
  "kernelspec": {
   "display_name": "Python 3",
   "language": "python",
   "name": "python3"
  },
  "language_info": {
   "codemirror_mode": {
    "name": "ipython",
    "version": 3
   },
   "file_extension": ".py",
   "mimetype": "text/x-python",
   "name": "python",
   "nbconvert_exporter": "python",
   "pygments_lexer": "ipython3",
   "version": "3.7.6"
  }
 },
 "nbformat": 4,
 "nbformat_minor": 4
}
