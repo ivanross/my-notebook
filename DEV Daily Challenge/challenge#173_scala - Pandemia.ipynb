{
 "cells": [
  {
   "cell_type": "markdown",
   "metadata": {},
   "source": [
    "# Challenge #173 - Pandemia"
   ]
  },
  {
   "cell_type": "markdown",
   "metadata": {},
   "source": [
    "> https://dev.to/thepracticaldev/daily-challenge-173-pandemia-5ae7\n",
    "\n",
    "\n",
    "### Setup\n",
    "\n",
    "In this challenge, the world has been hit with a new virus! There is a new pandemic that humanity is struggling to fight against. The continents are separated by oceans, but some infected people have traveled before the quarantine.\n",
    "\n",
    "You'll be given a map of the world in the form of a string:\n",
    "\n",
    "```\n",
    "s = \"01000000X000X011X0X\"\n",
    "\n",
    "\"0\" : uninfected\n",
    "\n",
    "\"1\" : infected\n",
    "\n",
    "\"X\" : ocean\n",
    "```\n",
    "\n",
    "- If one person gets infected on a continent, the entire continent will get infected.\n",
    "- The first and last continents are not connected.\n",
    "- The virus cannot spread across the ocean.\n",
    "- For maps without X, there are no oceans so the entire planet would become infected, return 0%\n",
    "- For maps without 0 or 1, there are no people, return 0.\n",
    "\n",
    "Return the percentage of the population that are infected by the virus.\n",
    "\n",
    "### Example\n",
    "\n",
    "```\n",
    "start: map1 = \"01000000X000X011X0X\"\n",
    "end:   map1 = \"11111111X000X111X0X\"\n",
    "\n",
    "total = 15\n",
    "infected = 11\n",
    "percentage = 100*11/15 = 73.33333333333333\n",
    "```\n",
    "\n",
    "### Tests\n",
    "\n",
    "Which worlds are doomed? Which ones are saved?\n",
    "\n",
    "```\n",
    "A: 01000000X000X011X0X\n",
    "B: 01X000X010X011XX\n",
    "C: XXXXX\n",
    "D: 00000000X00X0000\n",
    "E: 0000000010\n",
    "F: 000001XXXX0010X1X00010\n",
    "G: X00X000000X10X0100\n",
    "```"
   ]
  },
  {
   "cell_type": "code",
   "execution_count": 35,
   "metadata": {},
   "outputs": [
    {
     "data": {
      "text/plain": [
       "pandemia: (s: String)Double\n"
      ]
     },
     "metadata": {},
     "output_type": "display_data"
    }
   ],
   "source": [
    "private def count_infected(c: String): Int = if (c.contains(\"1\")) c.length else 0 \n",
    "\n",
    "\n",
    "def pandemia(s: String): Double = {\n",
    "    var continents = s split \"X\" filter \"\".!=\n",
    "    var total      = (0 /: continents) { _ + _.length }\n",
    "    var infected   = (0 /: continents) { _ + count_infected(_) } \n",
    "    \n",
    "    if (total != 0) infected * 100.0 / total else 0\n",
    "}"
   ]
  },
  {
   "cell_type": "code",
   "execution_count": 36,
   "metadata": {},
   "outputs": [
    {
     "name": "stdout",
     "output_type": "stream",
     "text": [
      "01000000X000X011X0X\n",
      "73.33333333333333\n",
      "\n",
      "01X000X010X011XX\n",
      "72.72727272727273\n",
      "\n",
      "XXXXX\n",
      "0.0\n",
      "\n",
      "00000000X00X0000\n",
      "0.0\n",
      "\n",
      "0000000010\n",
      "100.0\n",
      "\n",
      "000001XXXX0010X1X00010\n",
      "100.0\n",
      "\n",
      "X00X000000X10X0100\n",
      "42.857142857142854\n",
      "\n"
     ]
    },
    {
     "data": {
      "text/plain": [
       "tests = List(01000000X000X011X0X, 01X000X010X011XX, XXXXX, 00000000X00X0000, 0000000010, 000001XXXX0010X1X00010, X00X000000X10X0100)\n"
      ]
     },
     "metadata": {},
     "output_type": "display_data"
    },
    {
     "data": {
      "text/plain": [
       "List(01000000X000X011X0X, 01X000X010X011XX, XXXXX, 00000000X00X0000, 0000000010, 000001XXXX0010X1X00010, X00X000000X10X0100)"
      ]
     },
     "execution_count": 36,
     "metadata": {},
     "output_type": "execute_result"
    }
   ],
   "source": [
    "var tests =  List(\n",
    "    \"01000000X000X011X0X\", \n",
    "    \"01X000X010X011XX\",\n",
    "    \"XXXXX\", \n",
    "    \"00000000X00X0000\",\n",
    "    \"0000000010\", \n",
    "    \"000001XXXX0010X1X00010\",\n",
    "    \"X00X000000X10X0100\"\n",
    ")\n",
    "\n",
    "for (t <- tests) {\n",
    "    println(s\"$t\\n${pandemia(t)}\\n\")\n",
    "};"
   ]
  }
 ],
 "metadata": {
  "kernelspec": {
   "display_name": "Apache Toree - Scala",
   "language": "scala",
   "name": "apache_toree_scala"
  },
  "language_info": {
   "codemirror_mode": "text/x-scala",
   "file_extension": ".scala",
   "mimetype": "text/x-scala",
   "name": "scala",
   "pygments_lexer": "scala",
   "version": "2.11.12"
  }
 },
 "nbformat": 4,
 "nbformat_minor": 4
}
