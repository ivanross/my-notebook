{
 "cells": [
  {
   "cell_type": "markdown",
   "metadata": {},
   "source": [
    "# Challenge #042 - Caesar Cipher"
   ]
  },
  {
   "cell_type": "markdown",
   "metadata": {},
   "source": [
    "> Solution for https://dev.to/thepracticaldev/daily-challenge-42-caesar-cipher-43k8"
   ]
  },
  {
   "cell_type": "code",
   "execution_count": 1,
   "metadata": {},
   "outputs": [],
   "source": [
    "mod = ord(\"z\") - ord(\"a\") + 1\n",
    "def char_cipher(char,key):\n",
    "    c = char.lower()\n",
    "    was_upper = c != char\n",
    "    ciphed = c if (c < \"a\" or c > \"z\") else chr((ord(c) - ord(\"a\") - key + mod) % mod + ord(\"a\"))\n",
    "    return ciphed.upper() if was_upper else ciphed\n",
    "def cipher(s,key): return \"\".join([char_cipher(c,key) for c in s])"
   ]
  },
  {
   "cell_type": "code",
   "execution_count": 2,
   "metadata": {},
   "outputs": [
    {
     "name": "stdout",
     "output_type": "stream",
     "text": [
      "attack from the woods at dawn\n"
     ]
    }
   ],
   "source": [
    "print(cipher(\"dwwdfn iurp wkh zrrgv dw gdzq\",3))"
   ]
  },
  {
   "cell_type": "markdown",
   "metadata": {},
   "source": [
    "## Bonus - crack the cipher"
   ]
  },
  {
   "cell_type": "markdown",
   "metadata": {},
   "source": [
    "Use a sample english dictionary"
   ]
  },
  {
   "cell_type": "code",
   "execution_count": 3,
   "metadata": {
    "scrolled": false
   },
   "outputs": [
    {
     "name": "stdout",
     "output_type": "stream",
     "text": [
      "dictonary with 55561 words\n"
     ]
    }
   ],
   "source": [
    "# \"https://raw.githubusercontent.com/dwyl/english-words/master/words_alpha.txt\"\n",
    "f = open(\"utils/sample_english_dictionary.txt\", \"r\")\n",
    "dictionary = set(f.read().split())\n",
    "\n",
    "print(\"dictonary with\", len(dictionary), \"words\")"
   ]
  },
  {
   "cell_type": "code",
   "execution_count": 4,
   "metadata": {
    "scrolled": false
   },
   "outputs": [
    {
     "name": "stdout",
     "output_type": "stream",
     "text": [
      "(23, 'attack from the woods at dawn')\n",
      "(25, 'defend the east wall of the castle')\n"
     ]
    }
   ],
   "source": [
    "# Maybe useless\n",
    "search_cache = dict()\n",
    "def score(s): \n",
    "    matching = 0\n",
    "    for word in s.split():\n",
    "        try:\n",
    "            exists = search_cache[word]\n",
    "        except:\n",
    "            exists = word in dictionary\n",
    "            search_cache[word] = exists\n",
    "        if exists:\n",
    "            matching += 1\n",
    "    return matching\n",
    "\n",
    "def find_cipher_key(s):\n",
    "    score_cache = dict()\n",
    "    best_key = 0 \n",
    "    \n",
    "    for key in range(0,26):\n",
    "        # Compute score and save\n",
    "        # in cache\n",
    "        plain = cipher(s,key)\n",
    "        plain_score = score(plain)\n",
    "        score_cache[key] = {\"score\": plain_score, \"plain\": plain, \"key\": key}\n",
    "        \n",
    "        # Save current index if is\n",
    "        # best solution so far\n",
    "        if (score_cache[best_key][\"score\"] < plain_score):\n",
    "            best_key = key \n",
    "   \n",
    "    return (26 - best_key, score_cache[best_key][\"plain\"])\n",
    "        \n",
    "print(find_cipher_key(\"dwwdfn iurp wkh zrrgv dw gdzq\"))\n",
    "print(find_cipher_key(\"efgfoe uif fbtu xbmm pg uif dbtumf\"))"
   ]
  },
  {
   "cell_type": "code",
   "execution_count": 17,
   "metadata": {},
   "outputs": [
    {
     "name": "stdout",
     "output_type": "stream",
     "text": [
      "Plain:\n",
      "\n",
      "A Caesar cipher, or a shift cipher, is one of the most well \n",
      "known encryption techniques. It works by substituting the letters \n",
      "in the message with letters some fixed number of positions \n",
      "down the alphabet.\n",
      "\n",
      "Your challenge is to write a function that will accept a string \n",
      "and a shift key. It will return the encrypted text. If something \n",
      "in the string is not in the alphabet (e.g. punctuation, spaces) \n",
      "leave it as is.\n",
      "\n",
      "Ciphed:\n",
      "\n",
      "T Vtxltk vbiaxk, hk t labym vbiaxk, bl hgx hy max fhlm pxee \n",
      "dghpg xgvkrimbhg mxvagbjnxl. Bm phkdl ur lnulmbmnmbgz max exmmxkl \n",
      "bg max fxlltzx pbma exmmxkl lhfx ybqxw gnfuxk hy ihlbmbhgl \n",
      "whpg max teiatuxm.\n",
      "\n",
      "Rhnk vateexgzx bl mh pkbmx t yngvmbhg matm pbee tvvxim t lmkbgz \n",
      "tgw t labym dxr. Bm pbee kxmnkg max xgvkrimxw mxqm. By lhfxmabgz \n",
      "bg max lmkbgz bl ghm bg max teiatuxm (x.z. ingvmntmbhg, litvxl) \n",
      "extox bm tl bl.\n",
      "\n"
     ]
    }
   ],
   "source": [
    "long_text = \"\"\"\n",
    "T Vtxltk vbiaxk, hk t labym vbiaxk, bl hgx hy max fhlm pxee \n",
    "dghpg xgvkrimbhg mxvagbjnxl. Bm phkdl ur lnulmbmnmbgz max exmmxkl \n",
    "bg max fxlltzx pbma exmmxkl lhfx ybqxw gnfuxk hy ihlbmbhgl \n",
    "whpg max teiatuxm.\n",
    "\n",
    "Rhnk vateexgzx bl mh pkbmx t yngvmbhg matm pbee tvvxim t lmkbgz \n",
    "tgw t labym dxr. Bm pbee kxmnkg max xgvkrimxw mxqm. By lhfxmabgz \n",
    "bg max lmkbgz bl ghm bg max teiatuxm (x.z. ingvmntmbhg, litvxl) \n",
    "extox bm tl bl.\n",
    "\"\"\"\n",
    "\n",
    "k, plain = find_cipher_key(long_text)\n",
    "\n",
    "print(\"Plain:\")\n",
    "print(plain)\n",
    "\n",
    "print(\"Ciphed:\")\n",
    "print(cipher(plain,k))"
   ]
  }
 ],
 "metadata": {
  "kernelspec": {
   "display_name": "Python 3",
   "language": "python",
   "name": "python3"
  },
  "language_info": {
   "codemirror_mode": {
    "name": "ipython",
    "version": 3
   },
   "file_extension": ".py",
   "mimetype": "text/x-python",
   "name": "python",
   "nbconvert_exporter": "python",
   "pygments_lexer": "ipython3",
   "version": "3.7.3"
  }
 },
 "nbformat": 4,
 "nbformat_minor": 2
}
