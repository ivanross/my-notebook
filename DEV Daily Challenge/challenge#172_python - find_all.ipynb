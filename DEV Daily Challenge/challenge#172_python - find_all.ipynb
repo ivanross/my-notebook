{
 "cells": [
  {
   "cell_type": "markdown",
   "metadata": {},
   "source": [
    "# Challenge #172 - `find_all`"
   ]
  },
  {
   "cell_type": "markdown",
   "metadata": {},
   "source": [
    "> solution for https://dev.to/thepracticaldev/daily-challenge-172-find-all-in-an-array-3nob"
   ]
  },
  {
   "cell_type": "code",
   "execution_count": 27,
   "metadata": {},
   "outputs": [],
   "source": [
    "def find_all(ls, el):\n",
    "    return [i for (i,v) in enumerate(ls) if v == el]"
   ]
  },
  {
   "cell_type": "code",
   "execution_count": 33,
   "metadata": {},
   "outputs": [
    {
     "name": "stdout",
     "output_type": "stream",
     "text": [
      "[2, 4]\n",
      "[1, 9]\n",
      "[0, 1, 8]\n"
     ]
    }
   ],
   "source": [
    "print(find_all((6, 9, 3, 4, 3, 82, 11), 3))\n",
    "print(find_all((10, 16, 20, 6, 14, 11, 20, 2, 17, 16, 14), 16))\n",
    "print(find_all((20, 20, 10, 13, 15, 2, 7, 2, 20, 3, 18, 2, 3, 2, 16, 10, 9, 9, 7, 5, 15, 5), 20))"
   ]
  }
 ],
 "metadata": {
  "kernelspec": {
   "display_name": "Python 3",
   "language": "python",
   "name": "python3"
  },
  "language_info": {
   "codemirror_mode": {
    "name": "ipython",
    "version": 3
   },
   "file_extension": ".py",
   "mimetype": "text/x-python",
   "name": "python",
   "nbconvert_exporter": "python",
   "pygments_lexer": "ipython3",
   "version": "3.7.3"
  }
 },
 "nbformat": 4,
 "nbformat_minor": 4
}
