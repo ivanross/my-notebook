{
 "cells": [
  {
   "cell_type": "markdown",
   "metadata": {},
   "source": [
    "# Challenge #205 - Consonant String Value"
   ]
  },
  {
   "cell_type": "markdown",
   "metadata": {},
   "source": [
    "> Solution for https://dev.to/thepracticaldev/daily-challenge-205-consonant-string-value-4i25"
   ]
  },
  {
   "cell_type": "code",
   "execution_count": 72,
   "metadata": {},
   "outputs": [],
   "source": [
    "import re\n",
    "def split(s): return re.split(\"[aeiou]+\",s)\n",
    "def char_score(c): return ord(c) - ord(\"a\") + 1\n",
    "def string_score(s): return sum(map(char_score,s))\n",
    "def score(s): return max(map(string_score,split(s)))\n",
    "\n",
    "def solve(s): print(s, \"=>\", score(s))"
   ]
  },
  {
   "cell_type": "code",
   "execution_count": 73,
   "metadata": {},
   "outputs": [
    {
     "name": "stdout",
     "output_type": "stream",
     "text": [
      "chruschtschov => 80\n",
      "khrushchev => 38\n",
      "strength => 57\n",
      "catchphrase => 73\n",
      "twelfthstreet => 103\n",
      "mischtschenkoana => 80\n"
     ]
    }
   ],
   "source": [
    "solve(\"chruschtschov\") # => 80\n",
    "solve(\"khrushchev\")\n",
    "solve(\"strength\")\n",
    "solve(\"catchphrase\")\n",
    "solve(\"twelfthstreet\")\n",
    "solve(\"mischtschenkoana\")"
   ]
  }
 ],
 "metadata": {
  "kernelspec": {
   "display_name": "Python 3",
   "language": "python",
   "name": "python3"
  },
  "language_info": {
   "codemirror_mode": {
    "name": "ipython",
    "version": 3
   },
   "file_extension": ".py",
   "mimetype": "text/x-python",
   "name": "python",
   "nbconvert_exporter": "python",
   "pygments_lexer": "ipython3",
   "version": "3.7.3"
  }
 },
 "nbformat": 4,
 "nbformat_minor": 2
}
