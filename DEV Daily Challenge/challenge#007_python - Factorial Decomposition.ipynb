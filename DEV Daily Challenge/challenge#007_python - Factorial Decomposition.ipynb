{
 "cells": [
  {
   "cell_type": "markdown",
   "metadata": {},
   "source": [
    "# Challenge #007 - Factorial Decomposition"
   ]
  },
  {
   "cell_type": "markdown",
   "metadata": {},
   "source": [
    "> Solution for https://dev.to/thepracticaldev/daily-challenge-7-factorial-decomposition-176o"
   ]
  },
  {
   "cell_type": "code",
   "execution_count": 118,
   "metadata": {},
   "outputs": [],
   "source": [
    "from itertools import groupby\n",
    "from functools import reduce\n",
    "\n",
    "def flatten(xss): return [x for xs in xss for x in xs ]\n",
    "   \n",
    "        \n",
    "def factors(n):\n",
    "    div = 2\n",
    "    res = []\n",
    "    while(n > 1):\n",
    "        if (n % div == 0):\n",
    "            res.append(div)\n",
    "            n /= div\n",
    "        else:\n",
    "            div +=1\n",
    "    return res\n",
    "\n",
    "SUP = str.maketrans(\"0123456789\", \"⁰¹²³⁴⁵⁶⁷⁸⁹\")\n",
    "def print_tuple(t): return str(t[0]) if t[1] <= 1 else str(t[0])+str(t[1]).translate(SUP)\n",
    "\n",
    "def decomp(n):\n",
    "    factors_flat = list(flatten(map(factors,range(2,n+1))))\n",
    "    factors_flat.sort()\n",
    "    frequencies = [(x,len(list(g))) for(x,g) in groupby(factors_flat)]    \n",
    "    return reduce(lambda a,b:a+\"*\"+b, map(print_tuple,frequencies))\n"
   ]
  },
  {
   "cell_type": "code",
   "execution_count": 119,
   "metadata": {},
   "outputs": [
    {
     "name": "stdout",
     "output_type": "stream",
     "text": [
      "2¹⁹*3⁹*5⁴*7³*11²*13*17*19\n",
      "2²²*3¹⁰*5⁶*7³*11²*13*17*19*23\n"
     ]
    }
   ],
   "source": [
    "print(decomp(22))\n",
    "print(decomp(25))"
   ]
  }
 ],
 "metadata": {
  "kernelspec": {
   "display_name": "Python 3",
   "language": "python",
   "name": "python3"
  },
  "language_info": {
   "codemirror_mode": {
    "name": "ipython",
    "version": 3
   },
   "file_extension": ".py",
   "mimetype": "text/x-python",
   "name": "python",
   "nbconvert_exporter": "python",
   "pygments_lexer": "ipython3",
   "version": "3.7.3"
  }
 },
 "nbformat": 4,
 "nbformat_minor": 2
}
