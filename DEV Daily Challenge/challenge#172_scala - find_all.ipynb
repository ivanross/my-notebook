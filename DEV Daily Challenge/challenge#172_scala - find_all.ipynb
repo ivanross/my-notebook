{
 "cells": [
  {
   "cell_type": "markdown",
   "metadata": {},
   "source": [
    "# Challenge #172 - `find_all`"
   ]
  },
  {
   "cell_type": "markdown",
   "metadata": {},
   "source": [
    "> solution for https://dev.to/thepracticaldev/daily-challenge-172-find-all-in-an-array-3nob"
   ]
  },
  {
   "cell_type": "markdown",
   "metadata": {},
   "source": [
    "## 1. Tail recursive solution"
   ]
  },
  {
   "cell_type": "code",
   "execution_count": 1,
   "metadata": {},
   "outputs": [
    {
     "data": {
      "text/plain": [
       "find_all: (ls: List[Int], n: Int)List[Int]\n"
      ]
     },
     "metadata": {},
     "output_type": "display_data"
    }
   ],
   "source": [
    "import scala.annotation.tailrec\n",
    "\n",
    "@tailrec private def find_tail(ls: List[Int], n: Int, acc: List[Int], index: Int): List[Int] = ls match {\n",
    "    case Nil             => acc\n",
    "    case h::tl if h == n => find_tail(tl,n,acc:+index, index+1)\n",
    "    case _::tl           => find_tail(tl,n,acc,index+1)\n",
    "}\n",
    "\n",
    "def find_all(ls: List[Int], n: Int): List[Int] = find_tail(ls,n,Nil,0)"
   ]
  },
  {
   "cell_type": "code",
   "execution_count": 9,
   "metadata": {},
   "outputs": [
    {
     "name": "stdout",
     "output_type": "stream",
     "text": [
      "List(2, 4)\n",
      "List(1, 9)\n",
      "List(0, 1, 8)\n"
     ]
    }
   ],
   "source": [
    "println(find_all(List(6, 9, 3, 4, 3, 82, 11), 3))\n",
    "println(find_all(List(10, 16, 20, 6, 14, 11, 20, 2, 17, 16, 14), 16))\n",
    "println(find_all(List(20, 20, 10, 13, 15, 2, 7, 2, 20, 3, 18, 2, 3, 2, 16, 10, 9, 9, 7, 5, 15, 5), 20))"
   ]
  },
  {
   "cell_type": "markdown",
   "metadata": {},
   "source": [
    "## 2. filter map solution"
   ]
  },
  {
   "cell_type": "code",
   "execution_count": 6,
   "metadata": {},
   "outputs": [
    {
     "data": {
      "text/plain": [
       "find_all: (ls: List[Int], n: Int)List[Int]\n"
      ]
     },
     "metadata": {},
     "output_type": "display_data"
    }
   ],
   "source": [
    "def find_all(ls: List[Int], n: Int): List[Int] = ls.zipWithIndex filter { case (v,_) => v == n } map { case (_,i) => i } "
   ]
  },
  {
   "cell_type": "code",
   "execution_count": 7,
   "metadata": {},
   "outputs": [
    {
     "name": "stdout",
     "output_type": "stream",
     "text": [
      "List(2, 4)\n",
      "List(1, 9)\n",
      "List(0, 1, 8)\n"
     ]
    }
   ],
   "source": [
    "println(find_all(List(6, 9, 3, 4, 3, 82, 11), 3))\n",
    "println(find_all(List(10, 16, 20, 6, 14, 11, 20, 2, 17, 16, 14), 16))\n",
    "println(find_all(List(20, 20, 10, 13, 15, 2, 7, 2, 20, 3, 18, 2, 3, 2, 16, 10, 9, 9, 7, 5, 15, 5), 20))"
   ]
  },
  {
   "cell_type": "markdown",
   "metadata": {},
   "source": [
    "# 3. for comprehension solution"
   ]
  },
  {
   "cell_type": "code",
   "execution_count": 9,
   "metadata": {},
   "outputs": [
    {
     "data": {
      "text/plain": [
       "find_all: (ls: List[Int], n: Int)List[Int]\n"
      ]
     },
     "metadata": {},
     "output_type": "display_data"
    }
   ],
   "source": [
    "def find_all(ls: List[Int], n: Int): List[Int] = for ((v, i) <- ls.zipWithIndex if v == n) yield i"
   ]
  },
  {
   "cell_type": "code",
   "execution_count": 8,
   "metadata": {},
   "outputs": [
    {
     "name": "stdout",
     "output_type": "stream",
     "text": [
      "List(2, 4)\n",
      "List(1, 9)\n",
      "List(0, 1, 8)\n"
     ]
    }
   ],
   "source": [
    "println(find_all(List(6, 9, 3, 4, 3, 82, 11), 3))\n",
    "println(find_all(List(10, 16, 20, 6, 14, 11, 20, 2, 17, 16, 14), 16))\n",
    "println(find_all(List(20, 20, 10, 13, 15, 2, 7, 2, 20, 3, 18, 2, 3, 2, 16, 10, 9, 9, 7, 5, 15, 5), 20))"
   ]
  }
 ],
 "metadata": {
  "kernelspec": {
   "display_name": "Apache Toree - Scala",
   "language": "scala",
   "name": "apache_toree_scala"
  },
  "language_info": {
   "codemirror_mode": "text/x-scala",
   "file_extension": ".scala",
   "mimetype": "text/x-scala",
   "name": "scala",
   "pygments_lexer": "scala",
   "version": "2.11.12"
  }
 },
 "nbformat": 4,
 "nbformat_minor": 4
}
