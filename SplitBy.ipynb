{
 "cells": [
  {
   "cell_type": "markdown",
   "metadata": {},
   "source": [
    "# Split list by"
   ]
  },
  {
   "cell_type": "code",
   "execution_count": 116,
   "metadata": {
    "scrolled": false
   },
   "outputs": [
    {
     "data": {
      "text/plain": [
       "<console>:28: error: missing argument list for method splitBy\n",
       "Unapplied methods are only converted to functions when a function type is expected.\n",
       "You can make this conversion explicit by writing `splitBy _` or `splitBy(_,_)` instead of `splitBy`.\n",
       "       splitBy\n",
       "       ^\n",
       "lastException: Throwable = null\n",
       "splitBy: [A](ls: List[A], fn: A => Boolean)List[List[A]]\n"
      ]
     },
     "metadata": {},
     "output_type": "display_data"
    }
   ],
   "source": [
    "private def split_tail[A](\n",
    "    ls: List[A], \n",
    "    fn: A => Boolean, \n",
    "    acc: List[List[A]], \n",
    "    curr: List[A]\n",
    "): List[List[A]] = (ls, curr) match {\n",
    "    case (Nil , Nil)           => acc \n",
    "    case (Nil , _  )           => acc :+ curr\n",
    "    case (h::t, Nil) if fn(h)  => split_tail(t, fn, acc        , Nil      )\n",
    "    case (h::t, _  ) if fn(h)  => split_tail(t, fn, acc :+ curr, Nil      )\n",
    "    case (h::t, _  )           => split_tail(t, fn, acc        , curr :+ h)\n",
    "}\n",
    "\n",
    "def splitBy[A](ls: List[A], fn: (A => Boolean)): List[List[A]] = split_tail[A](ls,fn,Nil,Nil)"
   ]
  },
  {
   "cell_type": "code",
   "execution_count": 118,
   "metadata": {},
   "outputs": [
    {
     "data": {
      "text/plain": [
       "ls = List(1, 2, 3, 0, 0, 3, 4, 0, 0, 7, 8, 0, 9, 0, 0)\n",
       "cond = > Boolean = <function1>\n",
       "res = List(List(1, 2, 3), List(3, 4), List(7, 8), List(9))\n"
      ]
     },
     "metadata": {},
     "output_type": "display_data"
    },
    {
     "data": {
      "text/plain": [
       "List(List(1, 2, 3), List(3, 4), List(7, 8), List(9))"
      ]
     },
     "execution_count": 118,
     "metadata": {},
     "output_type": "execute_result"
    }
   ],
   "source": [
    "val ls = List[Int](1,2,3,0,0,3,4,0,0,7,8,0, 9, 0,0)\n",
    "val cond = (x: Int) => x == 0 \n",
    "val res = splitBy[Int](ls,cond)"
   ]
  }
 ],
 "metadata": {
  "kernelspec": {
   "display_name": "Apache Toree - Scala",
   "language": "scala",
   "name": "apache_toree_scala"
  },
  "language_info": {
   "codemirror_mode": "text/x-scala",
   "file_extension": ".scala",
   "mimetype": "text/x-scala",
   "name": "scala",
   "pygments_lexer": "scala",
   "version": "2.11.12"
  }
 },
 "nbformat": 4,
 "nbformat_minor": 2
}
