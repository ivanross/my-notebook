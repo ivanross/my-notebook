{
 "cells": [
  {
   "cell_type": "markdown",
   "metadata": {},
   "source": [
    "# Split list by"
   ]
  },
  {
   "cell_type": "code",
   "execution_count": 12,
   "metadata": {},
   "outputs": [
    {
     "data": {
      "text/plain": [
       "Name: Unknown Error\n",
       "Message: <console>:28: error: missing argument list for method splitBy\n",
       "Unapplied methods are only converted to functions when a function type is expected.\n",
       "You can make this conversion explicit by writing `splitBy _` or `splitBy(_,_)` instead of `splitBy`.\n",
       "       splitBy\n",
       "       ^\n",
       "lastException: Throwable = null\n",
       "<console>:8: error: ';' expected but '(' found.\n",
       "    case h::t => fn(h) ? split_tail(t,fn,acc :+ curr, Nil) : split_tail(t,fn,acc, curr :+ h)\n",
       "                                                                       ^\n",
       "\n",
       "StackTrace: "
      ]
     },
     "execution_count": 12,
     "metadata": {},
     "output_type": "execute_result"
    }
   ],
   "source": [
    "private def split_tail[A](\n",
    "    ls: List[A], \n",
    "    fn: A => Boolean, \n",
    "    acc: List[List[A]], \n",
    "    curr: List[A]\n",
    "): List[List[A]] = ls match {\n",
    "    case Nil => acc\n",
    "    case h::t => fn(h) ? split_tail(t,fn,acc :+ curr, Nil) : split_tail(t,fn,acc, curr :+ h)\n",
    "}\n",
    "\n",
    "def splitBy[A](ls: List[A], fn: A => Boolean): List[List[A]] = split_tail(ls,fn,List(),List())"
   ]
  },
  {
   "cell_type": "code",
   "execution_count": 9,
   "metadata": {},
   "outputs": [
    {
     "name": "stdout",
     "output_type": "stream",
     "text": [
      "List()\n"
     ]
    }
   ],
   "source": [
    "println(splitBy(List(1,2,3,0,0,3,4,0,0), (x: Int) => x == 0 ))"
   ]
  },
  {
   "cell_type": "code",
   "execution_count": null,
   "metadata": {},
   "outputs": [],
   "source": []
  }
 ],
 "metadata": {
  "kernelspec": {
   "display_name": "Apache Toree - Scala",
   "language": "scala",
   "name": "apache_toree_scala"
  },
  "language_info": {
   "codemirror_mode": "text/x-scala",
   "file_extension": ".scala",
   "mimetype": "text/x-scala",
   "name": "scala",
   "pygments_lexer": "scala",
   "version": "2.11.12"
  }
 },
 "nbformat": 4,
 "nbformat_minor": 2
}
